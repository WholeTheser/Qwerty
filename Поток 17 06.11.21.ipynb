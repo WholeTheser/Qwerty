{
 "cells": [
  {
   "cell_type": "code",
   "execution_count": 72,
   "id": "7d155a04",
   "metadata": {},
   "outputs": [
    {
     "data": {
      "text/plain": [
       "['11', 2, '33', 4, '55', 6, '77', 8, '99', 10]"
      ]
     },
     "execution_count": 72,
     "metadata": {},
     "output_type": "execute_result"
    }
   ],
   "source": [
    "[i if i%2==0 else str(i)*2 for i in range(1, 11)]"
   ]
  },
  {
   "cell_type": "code",
   "execution_count": 105,
   "id": "911ac975",
   "metadata": {},
   "outputs": [
    {
     "data": {
      "text/plain": [
       "['1', '2', '3', '4']"
      ]
     },
     "execution_count": 105,
     "metadata": {},
     "output_type": "execute_result"
    }
   ],
   "source": [
    "[i for i in '12we34' if i.isdigit()]"
   ]
  },
  {
   "cell_type": "code",
   "execution_count": null,
   "id": "588ae182",
   "metadata": {},
   "outputs": [],
   "source": []
  },
  {
   "cell_type": "code",
   "execution_count": 78,
   "id": "cffc3559",
   "metadata": {},
   "outputs": [],
   "source": [
    "check = False"
   ]
  },
  {
   "cell_type": "code",
   "execution_count": 83,
   "id": "0263912d",
   "metadata": {},
   "outputs": [],
   "source": [
    "a = 1 if check else ..."
   ]
  },
  {
   "cell_type": "code",
   "execution_count": 84,
   "id": "47f81fe3",
   "metadata": {},
   "outputs": [
    {
     "data": {
      "text/plain": [
       "Ellipsis"
      ]
     },
     "execution_count": 84,
     "metadata": {},
     "output_type": "execute_result"
    }
   ],
   "source": [
    "a"
   ]
  },
  {
   "cell_type": "code",
   "execution_count": 89,
   "id": "e40307cc",
   "metadata": {},
   "outputs": [],
   "source": [
    "def f(x):\n",
    "    return x**x"
   ]
  },
  {
   "cell_type": "code",
   "execution_count": 92,
   "id": "931f456b",
   "metadata": {},
   "outputs": [
    {
     "data": {
      "text/plain": [
       "10000000000"
      ]
     },
     "execution_count": 92,
     "metadata": {},
     "output_type": "execute_result"
    }
   ],
   "source": [
    "f(10)"
   ]
  },
  {
   "cell_type": "code",
   "execution_count": 93,
   "id": "68aea4af",
   "metadata": {},
   "outputs": [],
   "source": [
    "g = lambda x: x**x"
   ]
  },
  {
   "cell_type": "code",
   "execution_count": 94,
   "id": "d44d72b6",
   "metadata": {},
   "outputs": [
    {
     "data": {
      "text/plain": [
       "10000000000"
      ]
     },
     "execution_count": 94,
     "metadata": {},
     "output_type": "execute_result"
    }
   ],
   "source": [
    "g(10)"
   ]
  },
  {
   "cell_type": "code",
   "execution_count": 95,
   "id": "53e9a8e2",
   "metadata": {},
   "outputs": [],
   "source": [
    "def f(x, y):\n",
    "    if x >= y:\n",
    "        return str(str(x) + ' >= ' + str(y))\n",
    "    else:\n",
    "        return str(str(x) + ' < ' + str(y))"
   ]
  },
  {
   "cell_type": "code",
   "execution_count": 97,
   "id": "9b2ae636",
   "metadata": {},
   "outputs": [
    {
     "data": {
      "text/plain": [
       "'12 >= 10'"
      ]
     },
     "execution_count": 97,
     "metadata": {},
     "output_type": "execute_result"
    }
   ],
   "source": [
    "f(12, 10)"
   ]
  },
  {
   "cell_type": "code",
   "execution_count": 100,
   "id": "e0230562",
   "metadata": {},
   "outputs": [],
   "source": [
    "g = lambda x, y: str(str(x) + ' >= ' + str(y)) if x >= y else str(str(x) + ' < ' + str(y))"
   ]
  },
  {
   "cell_type": "code",
   "execution_count": 101,
   "id": "09b7d8e5",
   "metadata": {},
   "outputs": [
    {
     "data": {
      "text/plain": [
       "'12 < 15'"
      ]
     },
     "execution_count": 101,
     "metadata": {},
     "output_type": "execute_result"
    }
   ],
   "source": [
    "g(12, 15)"
   ]
  },
  {
   "cell_type": "code",
   "execution_count": 116,
   "id": "fda60321",
   "metadata": {},
   "outputs": [],
   "source": [
    "def rzd(x):\n",
    "    ch = ''.join([i for i in x if i.isdigit()])\n",
    "    sl = ''.join([i for i in x if i.isalpha()])\n",
    "    print(int(ch) if len(ch) >= len(sl) else sl)"
   ]
  },
  {
   "cell_type": "code",
   "execution_count": 117,
   "id": "99bd0d82",
   "metadata": {},
   "outputs": [
    {
     "name": "stdout",
     "output_type": "stream",
     "text": [
      "qwer\n"
     ]
    }
   ],
   "source": [
    "rzd('qw23er')"
   ]
  },
  {
   "cell_type": "code",
   "execution_count": 120,
   "id": "0aea653b",
   "metadata": {},
   "outputs": [],
   "source": [
    "lmbd = lambda x: rzd(x)"
   ]
  },
  {
   "cell_type": "code",
   "execution_count": 121,
   "id": "17b3a9c8",
   "metadata": {},
   "outputs": [
    {
     "name": "stdout",
     "output_type": "stream",
     "text": [
      "1234\n",
      "aqdf\n",
      "14\n",
      "345\n"
     ]
    }
   ],
   "source": [
    "for i in ['12as34', 'aq13df', '14gf', 'dsr345']:\n",
    "    lmbd(i)"
   ]
  },
  {
   "cell_type": "code",
   "execution_count": 126,
   "id": "a90d63ca",
   "metadata": {},
   "outputs": [],
   "source": [
    "# dct -> {}\n",
    "# dct_work('qwe', 'rty')\n",
    "# dct -> {'qwe': ['rty']}\n",
    "# dct_work('qwe', 'asd')\n",
    "# dct -> {'qwe': ['rty', 'asd']}\n",
    "# dct_work('zxc': 1)\n",
    "# dct -> {'qwe': ['rty', 'asd'],\n",
    "#         'zxc': [1]}"
   ]
  },
  {
   "cell_type": "code",
   "execution_count": 11,
   "id": "eeb54af8",
   "metadata": {},
   "outputs": [],
   "source": [
    "dct = {}"
   ]
  },
  {
   "cell_type": "code",
   "execution_count": 30,
   "id": "6800b9da",
   "metadata": {},
   "outputs": [
    {
     "data": {
      "text/plain": [
       "{'qwe': ['rty', 'asd'], 'asd': ['zxc', 'zxc']}"
      ]
     },
     "execution_count": 30,
     "metadata": {},
     "output_type": "execute_result"
    }
   ],
   "source": [
    "dct"
   ]
  },
  {
   "cell_type": "code",
   "execution_count": 26,
   "id": "36ed44de",
   "metadata": {},
   "outputs": [],
   "source": [
    "def dct_work(dct, name, value):\n",
    "    if name in list(dct.keys()):\n",
    "        dct[name].append(value)\n",
    "    else:\n",
    "        dct[name] = [value]"
   ]
  },
  {
   "cell_type": "code",
   "execution_count": 29,
   "id": "99a5baf6",
   "metadata": {},
   "outputs": [],
   "source": [
    "dct_work(dct, 'qwe', 'asd')"
   ]
  },
  {
   "cell_type": "code",
   "execution_count": 25,
   "id": "520be693",
   "metadata": {},
   "outputs": [
    {
     "data": {
      "text/plain": [
       "['qwe', 'asd']"
      ]
     },
     "execution_count": 25,
     "metadata": {},
     "output_type": "execute_result"
    }
   ],
   "source": [
    "list(dct.keys())"
   ]
  },
  {
   "cell_type": "code",
   "execution_count": 31,
   "id": "f3d25dd0",
   "metadata": {},
   "outputs": [],
   "source": [
    "a = 2"
   ]
  },
  {
   "cell_type": "code",
   "execution_count": 32,
   "id": "0edebdf1",
   "metadata": {},
   "outputs": [],
   "source": [
    "b = 2"
   ]
  },
  {
   "cell_type": "code",
   "execution_count": 33,
   "id": "009700f8",
   "metadata": {},
   "outputs": [
    {
     "data": {
      "text/plain": [
       "True"
      ]
     },
     "execution_count": 33,
     "metadata": {},
     "output_type": "execute_result"
    }
   ],
   "source": [
    "a == b"
   ]
  },
  {
   "cell_type": "code",
   "execution_count": 34,
   "id": "4fede8fa",
   "metadata": {},
   "outputs": [
    {
     "data": {
      "text/plain": [
       "True"
      ]
     },
     "execution_count": 34,
     "metadata": {},
     "output_type": "execute_result"
    }
   ],
   "source": [
    "a is b"
   ]
  },
  {
   "cell_type": "code",
   "execution_count": 35,
   "id": "b84c5482",
   "metadata": {},
   "outputs": [],
   "source": [
    "q = [1, 2, 3]"
   ]
  },
  {
   "cell_type": "code",
   "execution_count": 36,
   "id": "bacbcb8a",
   "metadata": {},
   "outputs": [
    {
     "data": {
      "text/plain": [
       "2"
      ]
     },
     "execution_count": 36,
     "metadata": {},
     "output_type": "execute_result"
    }
   ],
   "source": [
    "q[1]"
   ]
  },
  {
   "cell_type": "code",
   "execution_count": 37,
   "id": "d31d7ed1",
   "metadata": {},
   "outputs": [
    {
     "data": {
      "text/plain": [
       "True"
      ]
     },
     "execution_count": 37,
     "metadata": {},
     "output_type": "execute_result"
    }
   ],
   "source": [
    "q[1] == a"
   ]
  },
  {
   "cell_type": "code",
   "execution_count": 38,
   "id": "49c65d83",
   "metadata": {},
   "outputs": [
    {
     "data": {
      "text/plain": [
       "True"
      ]
     },
     "execution_count": 38,
     "metadata": {},
     "output_type": "execute_result"
    }
   ],
   "source": [
    "q[1] is a"
   ]
  },
  {
   "cell_type": "code",
   "execution_count": 16,
   "id": "8676f176",
   "metadata": {},
   "outputs": [],
   "source": [
    "razm = ['12x13x14', '10x20x30', '50x100x150', '45x35x5']\n",
    "tovars = ['пылесос', \"топор\", \"чайник\", \"машинка\"]\n",
    "def yandexmarket(razmers, tovary):\n",
    "    yach = [30, 40 ,50]\n",
    "    razm = [sorted([int(k) for k in i.split('x')]) for i in razmers]\n",
    "    print(razm)\n",
    "    for tovar in range(len(razm)):\n",
    "        sootv = sum([razm[tovar][i] <= yach[i] for i in range(len(yach))])\n",
    "        if sootv == len(yach):\n",
    "            print(tovary[tovar], 'войдет')\n",
    "        else: \n",
    "            print(tovary[tovar], 'курьером')"
   ]
  },
  {
   "cell_type": "code",
   "execution_count": 18,
   "id": "5c364669",
   "metadata": {
    "scrolled": true
   },
   "outputs": [
    {
     "name": "stdout",
     "output_type": "stream",
     "text": [
      "[[12, 13, 14], [10, 20, 30], [50, 100, 150], [5, 35, 45]]\n",
      "пылесос войдет\n",
      "топор войдет\n",
      "чайник курьером\n",
      "машинка войдет\n"
     ]
    }
   ],
   "source": [
    "yandexmarket(razm, tovars)"
   ]
  }
 ],
 "metadata": {
  "kernelspec": {
   "display_name": "Python 3",
   "language": "python",
   "name": "python3"
  },
  "language_info": {
   "codemirror_mode": {
    "name": "ipython",
    "version": 3
   },
   "file_extension": ".py",
   "mimetype": "text/x-python",
   "name": "python",
   "nbconvert_exporter": "python",
   "pygments_lexer": "ipython3",
   "version": "3.8.8"
  }
 },
 "nbformat": 4,
 "nbformat_minor": 5
}
